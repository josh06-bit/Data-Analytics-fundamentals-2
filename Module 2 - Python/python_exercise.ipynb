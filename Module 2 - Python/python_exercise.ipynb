{
 "cells": [
  {
   "cell_type": "markdown",
   "metadata": {},
   "source": [
    "# **Python Exercise**"
   ]
  },
  {
   "cell_type": "markdown",
   "metadata": {},
   "source": [
    "## Exercise 1: Conditional Problem\n",
    "\n",
    "**Problem:** Create a dictionary to store information about a student: name, age, grade level, and average grade.\n",
    "\n",
    "1. If the average grade is 90 or above, print `\"Excellent!\"`.\n",
    "2. If the average grade is between 80 and 89, print `\"Very Good\"`.\n",
    "3. If the average grade is between 70 and 79, print `\"Good\"`.\n",
    "4. If the average grade is below 70, print `\"Needs Improvement\"`."
   ]
  },
  {
   "cell_type": "code",
   "execution_count": 11,
   "metadata": {},
   "outputs": [
    {
     "name": "stdout",
     "output_type": "stream",
     "text": [
      "Austin Lim: {'first_name': 'Austin', 'last_name': 'Lim', 'Age': 20, 'grade_level': 'Senior High', 'average_grade': 90}\n",
      "Average Grade 90: Excellent!\n"
     ]
    }
   ],
   "source": [
    "Student = { \n",
    "    \"first_name\" : \"Austin\",\n",
    "    \"last_name\" : \"Lim\",\n",
    "    \"Age\" : 20,\n",
    "    \"grade_level\" : \"Senior High\",\n",
    "    \"average_grade\" : 90,  # This is the actual grade\n",
    "}\n",
    "\n",
    "# Printing student info\n",
    "print(\"Austin Lim:\", Student)\n",
    "\n",
    "average_grade = Student[\"average_grade\"]\n",
    "\n",
    "if average_grade >= 90:\n",
    "    message = \"Excellent!\"\n",
    "elif 80 <= average_grade < 90:\n",
    "    message = \"Very Good\"\n",
    "elif 70 <= average_grade < 80:\n",
    "    message = \"Good\"\n",
    "else:\n",
    "    message = \"Needs Improvement\"\n",
    "\n",
    "# Print the combined result\n",
    "print(f\"Average Grade {average_grade}: {message}\")\n"
   ]
  },
  {
   "cell_type": "markdown",
   "metadata": {},
   "source": [
    "## Exercise 2: Looping Problem\n",
    "\n",
    "Problem: Create a list of 5 numbers.\n",
    "\n",
    "1. Iterate through the list and print each number.\n",
    "2. Calculate the sum of all numbers in the list."
   ]
  },
  {
   "cell_type": "code",
   "execution_count": 18,
   "metadata": {},
   "outputs": [
    {
     "name": "stdout",
     "output_type": "stream",
     "text": [
      "Number: 1\n",
      "Number: 2\n",
      "Number: 3\n",
      "Number: 4\n",
      "Number: 5\n"
     ]
    }
   ],
   "source": [
    "# 1. Print each number \n",
    "numbers = [1, 2, 3, 4, 5]\n",
    "for i in numbers:\n",
    "    print(\"Number:\", i)\n"
   ]
  },
  {
   "cell_type": "code",
   "execution_count": 19,
   "metadata": {},
   "outputs": [
    {
     "name": "stdout",
     "output_type": "stream",
     "text": [
      "sum of numbers printed: 15\n"
     ]
    }
   ],
   "source": [
    "# 2. Calculate the sum\n",
    "print(\"sum of numbers printed:\", sum(numbers))"
   ]
  }
 ],
 "metadata": {
  "kernelspec": {
   "display_name": "Python 3",
   "language": "python",
   "name": "python3"
  },
  "language_info": {
   "codemirror_mode": {
    "name": "ipython",
    "version": 3
   },
   "file_extension": ".py",
   "mimetype": "text/x-python",
   "name": "python",
   "nbconvert_exporter": "python",
   "pygments_lexer": "ipython3",
   "version": "3.13.2"
  }
 },
 "nbformat": 4,
 "nbformat_minor": 2
}
