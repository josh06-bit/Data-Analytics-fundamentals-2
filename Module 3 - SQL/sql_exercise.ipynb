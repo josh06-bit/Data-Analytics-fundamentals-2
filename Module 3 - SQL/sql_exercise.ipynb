{
 "cells": [
  {
   "cell_type": "markdown",
   "metadata": {},
   "source": [
    "# **SQL Exercise**"
   ]
  },
  {
   "cell_type": "markdown",
   "metadata": {},
   "source": [
    "## **Activity 1** \n",
    "\n",
    "Practice performing CRUD operations (Create, Read, Update, Delete) on a database table.\n",
    "\n",
    "### **Perform the following tasks:**"
   ]
  },
  {
   "cell_type": "code",
   "execution_count": 4,
   "metadata": {},
   "outputs": [],
   "source": [
    "import sqlite3"
   ]
  },
  {
   "cell_type": "markdown",
   "metadata": {},
   "source": [
    "1. Connect to the database `abc_corp.db` and create the cursor."
   ]
  },
  {
   "cell_type": "code",
   "execution_count": 5,
   "metadata": {},
   "outputs": [],
   "source": [
    "conn = sqlite3.connect('abc_corp.db')\n",
    "cursor = conn.cursor()"
   ]
  },
  {
   "cell_type": "markdown",
   "metadata": {},
   "source": [
    "2. `Create` a new table named books, with the following columns:\n",
    "  * book_id (primary Key)\n",
    "  * title (Title of the book)\n",
    "  * author (Author of the book)\n",
    "  * genre (Genre of the book)\n",
    "  * publication_year (Year of publication)\n",
    "  * price (Price of the Book)"
   ]
  },
  {
   "cell_type": "code",
   "execution_count": 6,
   "metadata": {},
   "outputs": [],
   "source": [
    "cursor.execute(\n",
    "\"\"\"\n",
    "    CREATE TABLE IF NOT EXISTS books (\n",
    "    book_id INTEGER PRIMARY KEY AUTOINCREMENT,\n",
    "    title VARCHAR(100) NOT NULL,\n",
    "    author VARCHAR(100) NOT NULL,\n",
    "    genre VARCHAR(50),\n",
    "    publication_year INTEGER,\n",
    "    price DECIMAL(8, 2) NOT NULL\n",
    "    )\n",
    "\"\"\"\n",
    ")\n",
    "conn.commit()"
   ]
  },
  {
   "cell_type": "markdown",
   "metadata": {},
   "source": [
    "3. `Insert` at least 5 new books into the books table."
   ]
  },
  {
   "cell_type": "code",
   "execution_count": null,
   "metadata": {},
   "outputs": [],
   "source": [
    "\n",
    "cursor.execute(\n",
    "\"\"\"\n",
    "INSERT INTO books (book_id, title, author, genre, publication_year, price) VALUES\n",
    "(5, 'The Great Gatsby', 'F. Scott Fitzgerald', 'Classic', 1925, 10.99),\n",
    "(7, 'The Hobbit', 'J.R.R. Tolkien', 'Fantasy', 1937, 13.50),\n",
    "(9, 'The Alchemist', 'Paulo Coelho', 'Adventure', 1988, 12.99),\n",
    "(11, 'The Catcher in the Rye', 'J.D. Salinger', 'Coming-of-age', 1951, 11.75),\n",
    "(13, 'Harry Potter and the Sorcerer’s Stone', 'J.K. Rowling', 'Fantasy', 1997, 15.99);\n",
    "\"\"\")\n",
    "conn.commit()\n"
   ]
  },
  {
   "cell_type": "markdown",
   "metadata": {},
   "source": [
    "4. `Retrieve` all books from the books table."
   ]
  },
  {
   "cell_type": "code",
   "execution_count": null,
   "metadata": {},
   "outputs": [
    {
     "data": {
      "text/plain": [
       "[(1, 'To Kill a Mockingbird', 'Harper Lee', 'Fiction', 1960, 14.99),\n",
       " (3, 'Pride and Prejudice', 'Jane Austen', 'Romance', 1813, 7.99),\n",
       " (5, 'The Great Gatsby', 'F. Scott Fitzgerald', 'Classic', 1925, 10.99),\n",
       " (7, 'The Hobbit', 'J.R.R. Tolkien', 'Fantasy', 1937, 13.5),\n",
       " (9, 'The Alchemist', 'Paulo Coelho', 'Adventure', 1988, 12.99),\n",
       " (11, 'The Catcher in the Rye', 'J.D. Salinger', 'Coming-of-age', 1951, 11.75)]"
      ]
     },
     "execution_count": 15,
     "metadata": {},
     "output_type": "execute_result"
    }
   ],
   "source": [
    "cursor.execute(\"SELECT * FROM books\")\n",
    "cursor.fetchall()"
   ]
  },
  {
   "cell_type": "markdown",
   "metadata": {},
   "source": [
    "5. `Update` the price of a specific book."
   ]
  },
  {
   "cell_type": "code",
   "execution_count": null,
   "metadata": {},
   "outputs": [],
   "source": [
    "cursor.execute(\"\"\"\n",
    "    UPDATE books \n",
    "    SET title = 'Harry Potter and the Prisoner of Azkaban', \n",
    "        publication_year = 1999, \n",
    "        price = 13.99\n",
    "    WHERE book_id = 13\n",
    "\"\"\")\n",
    "conn.commit()\n"
   ]
  },
  {
   "cell_type": "markdown",
   "metadata": {},
   "source": [
    "6. `Delete` a book from the table."
   ]
  },
  {
   "cell_type": "code",
   "execution_count": null,
   "metadata": {},
   "outputs": [],
   "source": [
    "cursor.execute(\"DELETE FROM books WHERE book_id = 13\")\n",
    "conn.commit()"
   ]
  },
  {
   "cell_type": "markdown",
   "metadata": {},
   "source": [
    "## **Activity 2** \n",
    "\n",
    "Practice using SQL queries with LIMIT, COUNT, and WHERE Clause along with comparison, logical, and special operators.\n",
    "\n",
    "### **Perform the following tasks:**"
   ]
  },
  {
   "cell_type": "markdown",
   "metadata": {},
   "source": [
    "1. Create a table named `Students` and add these columns:\n",
    "  * **student_id** : This column stores the unique identifier for each student, serving as the primary key of the table.\n",
    "  * **name** : It holds the full name of the student, allowing for the storage of both the first name and last name within a maximum length of 50 characters.\n",
    "  * **age** : This column represents the age of the student in years, stored as an integer value.\n",
    "  * **gender** : It stores the gender of the student, allowing for the classification as either \"Male\" or \"Female\" within a maximum length of 10 characters.\n",
    "  * **grade** : This column holds the grade level of the student, typically represented by a single character such as 'A', 'B', 'C', 'D', indicating academic performance or class standing."
   ]
  },
  {
   "cell_type": "code",
   "execution_count": 40,
   "metadata": {},
   "outputs": [],
   "source": [
    "cursor.execute(\n",
    "\"\"\"\n",
    "    CREATE TABLE IF NOT EXISTS Students (\n",
    "    student_id INTEGER PRIMARY KEY AUTOINCREMENT,\n",
    "    name VARCHAR(50) NOT NULL,\n",
    "    age INTEGER,\n",
    "    gender VARCHAR(10),\n",
    "    grade CHAR(1)\n",
    "    )\n",
    "\"\"\"\n",
    ")\n",
    "conn.commit()"
   ]
  },
  {
   "cell_type": "markdown",
   "metadata": {},
   "source": [
    "2. Insert the provided data below into the students table."
   ]
  },
  {
   "cell_type": "markdown",
   "metadata": {},
   "source": [
    "| student_id | name             | age | gender | grade |\n",
    "| ---------- | ---------------- | --- | ------ | ----- |\n",
    "| 1          | John Di          | 18  | Male   | A     |\n",
    "| 2          | Emily Clark      | 17  | Female | B     |\n",
    "| 3          | Michael Santos   | 19  | Male   | C     |\n",
    "| 4          | Sarah Davis      | 16  | Female | A     |\n",
    "| 5          | David Poms       | 18  | Male   | B     |\n",
    "| 6          | Jessica Parker   | 17  | Female | A     |\n",
    "| 7          | Matthew Ross     | 19  | Male   | D     |\n",
    "| 8          | Ashey Lim        | 18  | Female | C     |\n",
    "| 9          | Christopher Chen | 17  | Male   | D     |\n",
    "| 10         | Amanda Hanes     | 16  | Female | B     |"
   ]
  },
  {
   "cell_type": "code",
   "execution_count": 41,
   "metadata": {},
   "outputs": [],
   "source": [
    "cursor.execute(\n",
    "\"\"\"\n",
    "INSERT INTO Students (name, age, gender, grade) VALUES\n",
    "('John Di', 18, 'Male', 'A'),\n",
    "('Emily Clark', 17, 'Female', 'B'),\n",
    "('Michael Santos', 19, 'Male', 'C'),\n",
    "('Sarah Davis', 16, 'Female', 'A'),\n",
    "('David Poms', 18, 'Male', 'B'),\n",
    "('Jessica Parker', 17, 'Female', 'A'),\n",
    "('Matthew Ross', 19, 'Male', 'D'),\n",
    "('Ashey Lim', 18, 'Female', 'C'),\n",
    "('Christopher Chen', 17, 'Male', 'D'),\n",
    "('Amanda Hanes', 16, 'Female', 'B');\n",
    "\n",
    "\"\"\")\n",
    "conn.commit()"
   ]
  },
  {
   "cell_type": "code",
   "execution_count": 52,
   "metadata": {},
   "outputs": [
    {
     "data": {
      "text/plain": [
       "[(1, 'John Di', 18, 'Male', 'A'),\n",
       " (2, 'Emily Clark', 17, 'Female', 'B'),\n",
       " (3, 'Michael Santos', 19, 'Male', 'C'),\n",
       " (4, 'Sarah Davis', 16, 'Female', 'A'),\n",
       " (5, 'David Poms', 18, 'Male', 'B'),\n",
       " (6, 'Jessica Parker', 17, 'Female', 'A'),\n",
       " (7, 'Matthew Ross', 19, 'Male', 'D'),\n",
       " (8, 'Ashley Lim', 18, 'Female', 'C'),\n",
       " (9, 'Christopher Chen', 17, 'Male', 'D'),\n",
       " (10, 'Amanda Hanes', 16, 'Female', 'B')]"
      ]
     },
     "execution_count": 52,
     "metadata": {},
     "output_type": "execute_result"
    }
   ],
   "source": [
    "cursor.execute(\"SELECT * FROM Students;\")\n",
    "cursor.fetchall()"
   ]
  },
  {
   "cell_type": "markdown",
   "metadata": {},
   "source": [
    "3. Retrieve only the name and grade columns for all students."
   ]
  },
  {
   "cell_type": "code",
   "execution_count": 53,
   "metadata": {},
   "outputs": [
    {
     "data": {
      "text/plain": [
       "[('John Di', 'A'),\n",
       " ('Emily Clark', 'B'),\n",
       " ('Michael Santos', 'C'),\n",
       " ('Sarah Davis', 'A'),\n",
       " ('David Poms', 'B'),\n",
       " ('Jessica Parker', 'A'),\n",
       " ('Matthew Ross', 'D'),\n",
       " ('Ashley Lim', 'C'),\n",
       " ('Christopher Chen', 'D'),\n",
       " ('Amanda Hanes', 'B')]"
      ]
     },
     "execution_count": 53,
     "metadata": {},
     "output_type": "execute_result"
    }
   ],
   "source": [
    "cursor.execute(\"SELECT name, grade FROM Students;\")\n",
    "cursor.fetchall()"
   ]
  },
  {
   "cell_type": "markdown",
   "metadata": {},
   "source": [
    "4. Retrieve male students older than 18 years old."
   ]
  },
  {
   "cell_type": "code",
   "execution_count": 54,
   "metadata": {},
   "outputs": [
    {
     "data": {
      "text/plain": [
       "[('Michael Santos', 19), ('Matthew Ross', 19)]"
      ]
     },
     "execution_count": 54,
     "metadata": {},
     "output_type": "execute_result"
    }
   ],
   "source": [
    "cursor.execute(\"SELECT name, age FROM Students WHERE gender = 'Male' AND age > 18\")\n",
    "cursor.fetchall()"
   ]
  },
  {
   "cell_type": "markdown",
   "metadata": {},
   "source": [
    "5. Retrieve the name and age of students who are older than or equal to 18."
   ]
  },
  {
   "cell_type": "code",
   "execution_count": 55,
   "metadata": {},
   "outputs": [
    {
     "data": {
      "text/plain": [
       "[('John Di', 18),\n",
       " ('Michael Santos', 19),\n",
       " ('David Poms', 18),\n",
       " ('Matthew Ross', 19),\n",
       " ('Ashley Lim', 18)]"
      ]
     },
     "execution_count": 55,
     "metadata": {},
     "output_type": "execute_result"
    }
   ],
   "source": [
    "cursor.execute(\"SELECT name, age FROM Students WHERE age >= 18\")\n",
    "cursor.fetchall()"
   ]
  },
  {
   "cell_type": "markdown",
   "metadata": {},
   "source": [
    "6. Retrieve the name and gender of students who are either 16 years old or have a grade of 'A'."
   ]
  },
  {
   "cell_type": "code",
   "execution_count": 56,
   "metadata": {},
   "outputs": [
    {
     "data": {
      "text/plain": [
       "[('John Di', 'Male', 18, 'A'),\n",
       " ('Sarah Davis', 'Female', 16, 'A'),\n",
       " ('Jessica Parker', 'Female', 17, 'A'),\n",
       " ('Amanda Hanes', 'Female', 16, 'B')]"
      ]
     },
     "execution_count": 56,
     "metadata": {},
     "output_type": "execute_result"
    }
   ],
   "source": [
    "cursor.execute(\"SELECT name, gender, age, grade FROM Students WHERE age = 16 OR grade = 'A';\")\n",
    "cursor.fetchall()"
   ]
  },
  {
   "cell_type": "markdown",
   "metadata": {},
   "source": [
    "7. Retrieve the name, age, and grade of female students who are younger than 18."
   ]
  },
  {
   "cell_type": "code",
   "execution_count": 57,
   "metadata": {},
   "outputs": [
    {
     "data": {
      "text/plain": [
       "[('Emily Clark', 17, 'B'),\n",
       " ('Sarah Davis', 16, 'A'),\n",
       " ('Jessica Parker', 17, 'A'),\n",
       " ('Amanda Hanes', 16, 'B')]"
      ]
     },
     "execution_count": 57,
     "metadata": {},
     "output_type": "execute_result"
    }
   ],
   "source": [
    "cursor.execute(\"SELECT name, age, grade FROM Students WHERE gender = 'Female' AND age < 18;\")\n",
    "cursor.fetchall()\n"
   ]
  },
  {
   "cell_type": "markdown",
   "metadata": {},
   "source": [
    "8. Retrieve the count of male students."
   ]
  },
  {
   "cell_type": "code",
   "execution_count": 58,
   "metadata": {},
   "outputs": [
    {
     "data": {
      "text/plain": [
       "[(5,)]"
      ]
     },
     "execution_count": 58,
     "metadata": {},
     "output_type": "execute_result"
    }
   ],
   "source": [
    "cursor.execute(\"SELECT COUNT(*) FROM Students WHERE gender = 'Male';\")\n",
    "cursor.fetchall()"
   ]
  },
  {
   "cell_type": "markdown",
   "metadata": {},
   "source": [
    "9. Retrieve the students who are between 16 or 19 years old."
   ]
  },
  {
   "cell_type": "code",
   "execution_count": 59,
   "metadata": {},
   "outputs": [
    {
     "data": {
      "text/plain": [
       "[(3, 'Michael Santos', 19, 'Male', 'C'),\n",
       " (4, 'Sarah Davis', 16, 'Female', 'A'),\n",
       " (7, 'Matthew Ross', 19, 'Male', 'D'),\n",
       " (10, 'Amanda Hanes', 16, 'Female', 'B')]"
      ]
     },
     "execution_count": 59,
     "metadata": {},
     "output_type": "execute_result"
    }
   ],
   "source": [
    "cursor.execute(\"SELECT * FROM Students WHERE age IN (16, 19);\")\n",
    "cursor.fetchall()"
   ]
  },
  {
   "cell_type": "markdown",
   "metadata": {},
   "source": [
    "10. Retrieve the name and grade of students whose grades are 'B' or 'C' and are older than or equal to 18 years old."
   ]
  },
  {
   "cell_type": "code",
   "execution_count": 60,
   "metadata": {},
   "outputs": [
    {
     "data": {
      "text/plain": [
       "[('Michael Santos', 'C'), ('David Poms', 'B'), ('Ashley Lim', 'C')]"
      ]
     },
     "execution_count": 60,
     "metadata": {},
     "output_type": "execute_result"
    }
   ],
   "source": [
    "cursor.execute(\"SELECT name, grade FROM Students WHERE grade IN ('B', 'C') AND age >= 18;\")\n",
    "cursor.fetchall()"
   ]
  },
  {
   "cell_type": "markdown",
   "metadata": {},
   "source": [
    "11. Retrieve the name and age of students whose names start with 'A'."
   ]
  },
  {
   "cell_type": "code",
   "execution_count": 68,
   "metadata": {},
   "outputs": [
    {
     "data": {
      "text/plain": [
       "[('Ashley Lim', 18), ('Amanda Hanes', 16)]"
      ]
     },
     "execution_count": 68,
     "metadata": {},
     "output_type": "execute_result"
    }
   ],
   "source": [
    "cursor.execute(\"SELECT name, age FROM Students WHERE name LIKE 'A%';\")\n",
    "cursor.fetchall()"
   ]
  },
  {
   "cell_type": "markdown",
   "metadata": {},
   "source": [
    "12. Retrieve the first 5 students whose names contain the letter 'i'."
   ]
  },
  {
   "cell_type": "code",
   "execution_count": 69,
   "metadata": {},
   "outputs": [
    {
     "data": {
      "text/plain": [
       "[(1, 'John Di', 18, 'Male', 'A'),\n",
       " (2, 'Emily Clark', 17, 'Female', 'B'),\n",
       " (3, 'Michael Santos', 19, 'Male', 'C'),\n",
       " (4, 'Sarah Davis', 16, 'Female', 'A'),\n",
       " (5, 'David Poms', 18, 'Male', 'B'),\n",
       " (6, 'Jessica Parker', 17, 'Female', 'A'),\n",
       " (8, 'Ashley Lim', 18, 'Female', 'C'),\n",
       " (9, 'Christopher Chen', 17, 'Male', 'D')]"
      ]
     },
     "execution_count": 69,
     "metadata": {},
     "output_type": "execute_result"
    }
   ],
   "source": [
    "cursor.execute(\"SELECT * FROM Students WHERE name LIKE '%i%';\")\n",
    "cursor.fetchall()"
   ]
  }
 ],
 "metadata": {
  "kernelspec": {
   "display_name": "Python 3",
   "language": "python",
   "name": "python3"
  },
  "language_info": {
   "codemirror_mode": {
    "name": "ipython",
    "version": 3
   },
   "file_extension": ".py",
   "mimetype": "text/x-python",
   "name": "python",
   "nbconvert_exporter": "python",
   "pygments_lexer": "ipython3",
   "version": "3.13.2"
  }
 },
 "nbformat": 4,
 "nbformat_minor": 2
}
