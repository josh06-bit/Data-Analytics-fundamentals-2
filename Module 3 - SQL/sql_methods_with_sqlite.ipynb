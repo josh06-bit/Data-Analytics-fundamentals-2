{
 "cells": [
  {
   "cell_type": "markdown",
   "metadata": {},
   "source": [
    "# **SQL METHODS**"
   ]
  },
  {
   "cell_type": "markdown",
   "metadata": {},
   "source": [
    "In SQL, methods refer to functions or procedures that perform specific tasks within your queries. They are like pre-defined tools that you can use to manipulate, analyze, or interact with your data in various ways."
   ]
  },
  {
   "cell_type": "markdown",
   "metadata": {},
   "source": [
    "#### **Import SQLite3**"
   ]
  },
  {
   "cell_type": "code",
   "execution_count": 2,
   "metadata": {},
   "outputs": [],
   "source": [
    "import sqlite3"
   ]
  },
  {
   "cell_type": "markdown",
   "metadata": {},
   "source": [
    "#### **Connect to the SQLite Database**\n",
    "If you want to create the database file in the current directory (where your Jupyter Notebook is located) and specify the name of the database file, you can do it like this:"
   ]
  },
  {
   "cell_type": "code",
   "execution_count": 3,
   "metadata": {},
   "outputs": [],
   "source": [
    "conn = sqlite3.connect('sqlite-crud.db')\n",
    "cursor = conn.cursor()"
   ]
  },
  {
   "cell_type": "markdown",
   "metadata": {},
   "source": [
    "### **SELECT**"
   ]
  },
  {
   "cell_type": "markdown",
   "metadata": {},
   "source": [
    "The SELECT statement in SQL retrieves data from one or more tables, allowing users to specify columns to fetch and apply filters, sorting, and aggregations to manipulate the data returned."
   ]
  },
  {
   "cell_type": "code",
   "execution_count": null,
   "metadata": {},
   "outputs": [
    {
     "data": {
      "text/plain": [
       "[(1, 'John', 'Doe', 'Sales', 65000, '1997-01-07', 2),\n",
       " (2, 'Jane', 'Smith', 'Marketing', 55000, '2024-04-26', 3),\n",
       " (3, 'Michael', 'Johnson', 'Sales', 60000, '2024-04-27', 5),\n",
       " (4, 'Emily', 'Davis', 'Operations', 62000, '2024-04-20', 2),\n",
       " (5, 'David', 'Wilson', 'Operations', 58000, '2024-04-28', 1),\n",
       " (6, 'Linda', 'Martinez', 'IT', 70000, '2024-04-29', 4),\n",
       " (7, 'Robert', 'Anderson', 'Finance', 65000, '2024-04-30', 3),\n",
       " (8, 'Patricia', 'Taylor', 'HR', 52000, '2024-05-01', 5),\n",
       " (9, 'Christopher', 'Thomas', 'Marketing', 59000, '2024-05-02', 2),\n",
       " (10, 'Jennifer', 'Lee', 'Sales', 63000, '2024-05-03', 3),\n",
       " (11, 'James', 'White', 'Operations', 56000, '2024-05-04', 4),\n",
       " (12, 'Barbara', 'Harris', 'IT', 68000, '2024-05-05', 1),\n",
       " (13, 'Daniel', 'Clark', 'Finance', 64000, '2024-05-06', 5),\n",
       " (14, 'Nancy', 'Lewis', 'HR', 53000, '2024-05-07', 2),\n",
       " (15, 'Paul', 'Walker', 'Sales', 61000, '2024-05-08', 3),\n",
       " (16, 'Karen', 'Hall', 'Marketing', 60000, '2024-05-09', 4),\n",
       " (17, 'Steven', 'Allen', 'IT', 69000, '2024-05-10', 5),\n",
       " (18, 'Elizabeth', 'Young', 'Finance', 62000, '2024-05-11', 2),\n",
       " (19, 'George', 'King', 'Operations', 57000, '2024-05-12', 3),\n",
       " (20, 'Mary', 'Wright', 'HR', 54000, '2024-05-13', 4),\n",
       " (21, 'Brian', 'Lopez', 'Sales', 62000, '2024-05-14', 5),\n",
       " (22, 'Megan', 'Hill', 'IT', 71000, '2024-05-15', 2),\n",
       " (23, 'Anthony', 'Scott', 'Finance', 66000, '2024-05-16', 3),\n",
       " (24, 'Deborah', 'Green', 'Marketing', 63000, '2024-05-17', 4),\n",
       " (25, 'Larry', 'Adams', 'Operations', 58000, '2024-05-18', 5),\n",
       " (26, 'Sarah', 'Nelson', 'HR', 55000, '2024-05-19', 2),\n",
       " (27, 'Kenneth', 'Carter', 'Sales', 64000, '2024-05-20', 3),\n",
       " (28, 'Betty', 'Mitchell', 'IT', 72000, '2024-05-21', 4),\n",
       " (29, 'Ronald', 'Perez', 'Finance', 67000, '2024-05-22', 5),\n",
       " (30, 'Laura', 'Roberts', 'Marketing', 65000, '2024-05-23', 2)]"
      ]
     },
     "execution_count": 3,
     "metadata": {},
     "output_type": "execute_result"
    }
   ],
   "source": [
    "cursor.execute(\"SELECT * FROM employees\")\n",
    "cursor.fetchall()"
   ]
  },
  {
   "cell_type": "markdown",
   "metadata": {},
   "source": [
    "### **DISTINCT**\n",
    "\n",
    "The **DISTINCT** keyword is used to return only distinct (unique) values in the result set of a query. It ensures that duplicate rows are removed from the output."
   ]
  },
  {
   "cell_type": "code",
   "execution_count": null,
   "metadata": {},
   "outputs": [
    {
     "data": {
      "text/plain": [
       "[('Sales',), ('Marketing',), ('Operations',), ('IT',), ('Finance',), ('HR',)]"
      ]
     },
     "execution_count": 4,
     "metadata": {},
     "output_type": "execute_result"
    }
   ],
   "source": [
    "cursor.execute(\"SELECT DISTINCT department FROM employees\")\n",
    "cursor.fetchall()"
   ]
  },
  {
   "cell_type": "markdown",
   "metadata": {},
   "source": [
    "### **LIMIT**\n",
    "\n",
    "The **LIMIT** clause specifies the maximum number of rows to return in a query result."
   ]
  },
  {
   "cell_type": "code",
   "execution_count": null,
   "metadata": {},
   "outputs": [
    {
     "data": {
      "text/plain": [
       "[(1, 'John', 'Doe', 'Sales', 65000, '1997-01-07', 2),\n",
       " (2, 'Jane', 'Smith', 'Marketing', 55000, '2024-04-26', 3),\n",
       " (3, 'Michael', 'Johnson', 'Sales', 60000, '2024-04-27', 5),\n",
       " (4, 'Emily', 'Davis', 'Operations', 62000, '2024-04-20', 2),\n",
       " (5, 'David', 'Wilson', 'Operations', 58000, '2024-04-28', 1)]"
      ]
     },
     "execution_count": 5,
     "metadata": {},
     "output_type": "execute_result"
    }
   ],
   "source": [
    "cursor.execute(\"SELECT * FROM employees LIMIT 5\")\n",
    "cursor.fetchall()"
   ]
  },
  {
   "cell_type": "markdown",
   "metadata": {},
   "source": [
    "### **COUNT**\n",
    "\n",
    "The **COUNT** function is used to count the number of rows in a table or the number of rows matching a specific condition."
   ]
  },
  {
   "cell_type": "code",
   "execution_count": null,
   "metadata": {},
   "outputs": [
    {
     "data": {
      "text/plain": [
       "[(30,)]"
      ]
     },
     "execution_count": 6,
     "metadata": {},
     "output_type": "execute_result"
    }
   ],
   "source": [
    "cursor.execute(\"SELECT COUNT(*) FROM employees\")\n",
    "cursor.fetchall()"
   ]
  },
  {
   "cell_type": "code",
   "execution_count": null,
   "metadata": {},
   "outputs": [
    {
     "data": {
      "text/plain": [
       "[(6,)]"
      ]
     },
     "execution_count": 7,
     "metadata": {},
     "output_type": "execute_result"
    }
   ],
   "source": [
    "cursor.execute(\"SELECT COUNT(DISTINCT department) FROM employees\")\n",
    "cursor.fetchall()"
   ]
  },
  {
   "cell_type": "markdown",
   "metadata": {},
   "source": [
    "### **WHERE**\n",
    "\n",
    "The **WHERE** clause is used to filter data retrieved from a database based on specific conditions."
   ]
  },
  {
   "cell_type": "markdown",
   "metadata": {},
   "source": [
    "### **Comparison Operators:**\n",
    "#### `=`: Equal to"
   ]
  },
  {
   "cell_type": "code",
   "execution_count": null,
   "metadata": {},
   "outputs": [
    {
     "data": {
      "text/plain": [
       "[(6, 'Linda', 'Martinez', 'IT', 70000, '2024-04-29', 4),\n",
       " (12, 'Barbara', 'Harris', 'IT', 68000, '2024-05-05', 1),\n",
       " (17, 'Steven', 'Allen', 'IT', 69000, '2024-05-10', 5),\n",
       " (22, 'Megan', 'Hill', 'IT', 71000, '2024-05-15', 2),\n",
       " (28, 'Betty', 'Mitchell', 'IT', 72000, '2024-05-21', 4)]"
      ]
     },
     "execution_count": 8,
     "metadata": {},
     "output_type": "execute_result"
    }
   ],
   "source": [
    "# Get the employees that is working at the IT department\n",
    "cursor.execute(\"SELECT * FROM employees WHERE department = 'IT'\")\n",
    "cursor.fetchall()"
   ]
  },
  {
   "cell_type": "markdown",
   "metadata": {},
   "source": [
    "#### `!=` : Not equal to"
   ]
  },
  {
   "cell_type": "code",
   "execution_count": null,
   "metadata": {},
   "outputs": [
    {
     "data": {
      "text/plain": [
       "[(1, 'John', 'Doe', 'Sales', 65000, '1997-01-07', 2),\n",
       " (2, 'Jane', 'Smith', 'Marketing', 55000, '2024-04-26', 3),\n",
       " (3, 'Michael', 'Johnson', 'Sales', 60000, '2024-04-27', 5),\n",
       " (4, 'Emily', 'Davis', 'Operations', 62000, '2024-04-20', 2),\n",
       " (5, 'David', 'Wilson', 'Operations', 58000, '2024-04-28', 1),\n",
       " (7, 'Robert', 'Anderson', 'Finance', 65000, '2024-04-30', 3),\n",
       " (8, 'Patricia', 'Taylor', 'HR', 52000, '2024-05-01', 5),\n",
       " (9, 'Christopher', 'Thomas', 'Marketing', 59000, '2024-05-02', 2),\n",
       " (10, 'Jennifer', 'Lee', 'Sales', 63000, '2024-05-03', 3),\n",
       " (11, 'James', 'White', 'Operations', 56000, '2024-05-04', 4),\n",
       " (13, 'Daniel', 'Clark', 'Finance', 64000, '2024-05-06', 5),\n",
       " (14, 'Nancy', 'Lewis', 'HR', 53000, '2024-05-07', 2),\n",
       " (15, 'Paul', 'Walker', 'Sales', 61000, '2024-05-08', 3),\n",
       " (16, 'Karen', 'Hall', 'Marketing', 60000, '2024-05-09', 4),\n",
       " (18, 'Elizabeth', 'Young', 'Finance', 62000, '2024-05-11', 2),\n",
       " (19, 'George', 'King', 'Operations', 57000, '2024-05-12', 3),\n",
       " (20, 'Mary', 'Wright', 'HR', 54000, '2024-05-13', 4),\n",
       " (21, 'Brian', 'Lopez', 'Sales', 62000, '2024-05-14', 5),\n",
       " (23, 'Anthony', 'Scott', 'Finance', 66000, '2024-05-16', 3),\n",
       " (24, 'Deborah', 'Green', 'Marketing', 63000, '2024-05-17', 4),\n",
       " (25, 'Larry', 'Adams', 'Operations', 58000, '2024-05-18', 5),\n",
       " (26, 'Sarah', 'Nelson', 'HR', 55000, '2024-05-19', 2),\n",
       " (27, 'Kenneth', 'Carter', 'Sales', 64000, '2024-05-20', 3),\n",
       " (29, 'Ronald', 'Perez', 'Finance', 67000, '2024-05-22', 5),\n",
       " (30, 'Laura', 'Roberts', 'Marketing', 65000, '2024-05-23', 2)]"
      ]
     },
     "execution_count": 9,
     "metadata": {},
     "output_type": "execute_result"
    }
   ],
   "source": [
    "# Get all the employees that is not working at the IT department\n",
    "cursor.execute(\"SELECT * FROM employees WHERE department != 'IT'\")\n",
    "cursor.fetchall()"
   ]
  },
  {
   "cell_type": "markdown",
   "metadata": {},
   "source": [
    "#### `<` : Less than"
   ]
  },
  {
   "cell_type": "code",
   "execution_count": null,
   "metadata": {},
   "outputs": [
    {
     "data": {
      "text/plain": [
       "[(1, 'John', 'Doe', 'Sales', 65000, '1997-01-07', 2),\n",
       " (4, 'Emily', 'Davis', 'Operations', 62000, '2024-04-20', 2),\n",
       " (5, 'David', 'Wilson', 'Operations', 58000, '2024-04-28', 1),\n",
       " (9, 'Christopher', 'Thomas', 'Marketing', 59000, '2024-05-02', 2),\n",
       " (12, 'Barbara', 'Harris', 'IT', 68000, '2024-05-05', 1),\n",
       " (14, 'Nancy', 'Lewis', 'HR', 53000, '2024-05-07', 2),\n",
       " (18, 'Elizabeth', 'Young', 'Finance', 62000, '2024-05-11', 2),\n",
       " (22, 'Megan', 'Hill', 'IT', 71000, '2024-05-15', 2),\n",
       " (26, 'Sarah', 'Nelson', 'HR', 55000, '2024-05-19', 2),\n",
       " (30, 'Laura', 'Roberts', 'Marketing', 65000, '2024-05-23', 2)]"
      ]
     },
     "execution_count": 10,
     "metadata": {},
     "output_type": "execute_result"
    }
   ],
   "source": [
    "# Select employess that have poor performance\n",
    "cursor.execute(\"SELECT * FROM employees WHERE performance_rating < 3\")\n",
    "cursor.fetchall()"
   ]
  },
  {
   "cell_type": "markdown",
   "metadata": {},
   "source": [
    "#### `>` : Greater than"
   ]
  },
  {
   "cell_type": "code",
   "execution_count": null,
   "metadata": {},
   "outputs": [
    {
     "data": {
      "text/plain": [
       "[(3, 'Michael', 'Johnson', 'Sales', 60000, '2024-04-27', 5),\n",
       " (6, 'Linda', 'Martinez', 'IT', 70000, '2024-04-29', 4),\n",
       " (8, 'Patricia', 'Taylor', 'HR', 52000, '2024-05-01', 5),\n",
       " (11, 'James', 'White', 'Operations', 56000, '2024-05-04', 4),\n",
       " (13, 'Daniel', 'Clark', 'Finance', 64000, '2024-05-06', 5),\n",
       " (16, 'Karen', 'Hall', 'Marketing', 60000, '2024-05-09', 4),\n",
       " (17, 'Steven', 'Allen', 'IT', 69000, '2024-05-10', 5),\n",
       " (20, 'Mary', 'Wright', 'HR', 54000, '2024-05-13', 4),\n",
       " (21, 'Brian', 'Lopez', 'Sales', 62000, '2024-05-14', 5),\n",
       " (24, 'Deborah', 'Green', 'Marketing', 63000, '2024-05-17', 4),\n",
       " (25, 'Larry', 'Adams', 'Operations', 58000, '2024-05-18', 5),\n",
       " (28, 'Betty', 'Mitchell', 'IT', 72000, '2024-05-21', 4),\n",
       " (29, 'Ronald', 'Perez', 'Finance', 67000, '2024-05-22', 5)]"
      ]
     },
     "execution_count": 11,
     "metadata": {},
     "output_type": "execute_result"
    }
   ],
   "source": [
    "# Select employees that have a great performance\n",
    "cursor.execute(\"SELECT * FROM employees WHERE performance_rating > 3\")\n",
    "cursor.fetchall()"
   ]
  },
  {
   "cell_type": "markdown",
   "metadata": {},
   "source": [
    "#### `<=` : Less than or equal to"
   ]
  },
  {
   "cell_type": "code",
   "execution_count": null,
   "metadata": {},
   "outputs": [
    {
     "data": {
      "text/plain": [
       "[(2, 'Jane', 'Smith', 'Marketing', 55000, '2024-04-26', 3),\n",
       " (5, 'David', 'Wilson', 'Operations', 58000, '2024-04-28', 1),\n",
       " (8, 'Patricia', 'Taylor', 'HR', 52000, '2024-05-01', 5),\n",
       " (9, 'Christopher', 'Thomas', 'Marketing', 59000, '2024-05-02', 2),\n",
       " (11, 'James', 'White', 'Operations', 56000, '2024-05-04', 4),\n",
       " (14, 'Nancy', 'Lewis', 'HR', 53000, '2024-05-07', 2),\n",
       " (19, 'George', 'King', 'Operations', 57000, '2024-05-12', 3),\n",
       " (20, 'Mary', 'Wright', 'HR', 54000, '2024-05-13', 4),\n",
       " (25, 'Larry', 'Adams', 'Operations', 58000, '2024-05-18', 5),\n",
       " (26, 'Sarah', 'Nelson', 'HR', 55000, '2024-05-19', 2)]"
      ]
     },
     "execution_count": 12,
     "metadata": {},
     "output_type": "execute_result"
    }
   ],
   "source": [
    "cursor.execute(\"SELECT * FROM employees WHERE salary <= 59000\")\n",
    "cursor.fetchall()"
   ]
  },
  {
   "cell_type": "markdown",
   "metadata": {},
   "source": [
    "#### `>=` : Greater than or equal to"
   ]
  },
  {
   "cell_type": "code",
   "execution_count": null,
   "metadata": {},
   "outputs": [
    {
     "data": {
      "text/plain": [
       "[(1, 'John', 'Doe', 'Sales', 65000, '1997-01-07', 2),\n",
       " (3, 'Michael', 'Johnson', 'Sales', 60000, '2024-04-27', 5),\n",
       " (4, 'Emily', 'Davis', 'Operations', 62000, '2024-04-20', 2),\n",
       " (6, 'Linda', 'Martinez', 'IT', 70000, '2024-04-29', 4),\n",
       " (7, 'Robert', 'Anderson', 'Finance', 65000, '2024-04-30', 3),\n",
       " (10, 'Jennifer', 'Lee', 'Sales', 63000, '2024-05-03', 3),\n",
       " (12, 'Barbara', 'Harris', 'IT', 68000, '2024-05-05', 1),\n",
       " (13, 'Daniel', 'Clark', 'Finance', 64000, '2024-05-06', 5),\n",
       " (15, 'Paul', 'Walker', 'Sales', 61000, '2024-05-08', 3),\n",
       " (16, 'Karen', 'Hall', 'Marketing', 60000, '2024-05-09', 4),\n",
       " (17, 'Steven', 'Allen', 'IT', 69000, '2024-05-10', 5),\n",
       " (18, 'Elizabeth', 'Young', 'Finance', 62000, '2024-05-11', 2),\n",
       " (21, 'Brian', 'Lopez', 'Sales', 62000, '2024-05-14', 5),\n",
       " (22, 'Megan', 'Hill', 'IT', 71000, '2024-05-15', 2),\n",
       " (23, 'Anthony', 'Scott', 'Finance', 66000, '2024-05-16', 3),\n",
       " (24, 'Deborah', 'Green', 'Marketing', 63000, '2024-05-17', 4),\n",
       " (27, 'Kenneth', 'Carter', 'Sales', 64000, '2024-05-20', 3),\n",
       " (28, 'Betty', 'Mitchell', 'IT', 72000, '2024-05-21', 4),\n",
       " (29, 'Ronald', 'Perez', 'Finance', 67000, '2024-05-22', 5),\n",
       " (30, 'Laura', 'Roberts', 'Marketing', 65000, '2024-05-23', 2)]"
      ]
     },
     "execution_count": 13,
     "metadata": {},
     "output_type": "execute_result"
    }
   ],
   "source": [
    "# Select all the employees that has salary of greater than or equal to 60000\n",
    "cursor.execute(\"SELECT * FROM employees WHERE salary >= 60000\")\n",
    "cursor.fetchall()"
   ]
  },
  {
   "cell_type": "markdown",
   "metadata": {},
   "source": [
    "### **Logical Operators:**\n",
    "#### `AND`: Used to combine multiple conditions where both must be true."
   ]
  },
  {
   "cell_type": "code",
   "execution_count": null,
   "metadata": {},
   "outputs": [
    {
     "data": {
      "text/plain": [
       "[(3, 'Michael', 'Johnson', 'Sales', 60000, '2024-04-27', 5),\n",
       " (21, 'Brian', 'Lopez', 'Sales', 62000, '2024-05-14', 5)]"
      ]
     },
     "execution_count": 14,
     "metadata": {},
     "output_type": "execute_result"
    }
   ],
   "source": [
    "# Employees working under sales department and have a performance rating greater than 3\n",
    "cursor.execute(\"\"\"\n",
    "SELECT * FROM employees\n",
    "WHERE department = 'Sales' AND performance_rating > 3\n",
    "\"\"\")\n",
    "cursor.fetchall()"
   ]
  },
  {
   "cell_type": "markdown",
   "metadata": {},
   "source": [
    "#### `OR`: Used to combine multiple conditions where at least one must be true."
   ]
  },
  {
   "cell_type": "code",
   "execution_count": null,
   "metadata": {},
   "outputs": [
    {
     "data": {
      "text/plain": [
       "[(2, 'Jane', 'Smith', 'Marketing', 55000, '2024-04-26', 3),\n",
       " (4, 'Emily', 'Davis', 'Operations', 62000, '2024-04-20', 2),\n",
       " (5, 'David', 'Wilson', 'Operations', 58000, '2024-04-28', 1),\n",
       " (9, 'Christopher', 'Thomas', 'Marketing', 59000, '2024-05-02', 2),\n",
       " (11, 'James', 'White', 'Operations', 56000, '2024-05-04', 4),\n",
       " (16, 'Karen', 'Hall', 'Marketing', 60000, '2024-05-09', 4),\n",
       " (19, 'George', 'King', 'Operations', 57000, '2024-05-12', 3),\n",
       " (24, 'Deborah', 'Green', 'Marketing', 63000, '2024-05-17', 4),\n",
       " (25, 'Larry', 'Adams', 'Operations', 58000, '2024-05-18', 5),\n",
       " (30, 'Laura', 'Roberts', 'Marketing', 65000, '2024-05-23', 2)]"
      ]
     },
     "execution_count": 15,
     "metadata": {},
     "output_type": "execute_result"
    }
   ],
   "source": [
    "# Select all the employees that is working under the operations or marketing department\n",
    "cursor.execute(\"\"\"\n",
    "SELECT * FROM employees \n",
    "WHERE department = 'Operations' OR department = 'Marketing'\n",
    "\"\"\")\n",
    "cursor.fetchall()"
   ]
  },
  {
   "cell_type": "markdown",
   "metadata": {},
   "source": [
    "#### `NOT`: Used to negate a condition."
   ]
  },
  {
   "cell_type": "code",
   "execution_count": null,
   "metadata": {},
   "outputs": [
    {
     "data": {
      "text/plain": [
       "[(1, 'John', 'Doe', 'Sales', 65000, '1997-01-07', 2),\n",
       " (2, 'Jane', 'Smith', 'Marketing', 55000, '2024-04-26', 3),\n",
       " (3, 'Michael', 'Johnson', 'Sales', 60000, '2024-04-27', 5),\n",
       " (4, 'Emily', 'Davis', 'Operations', 62000, '2024-04-20', 2),\n",
       " (5, 'David', 'Wilson', 'Operations', 58000, '2024-04-28', 1),\n",
       " (7, 'Robert', 'Anderson', 'Finance', 65000, '2024-04-30', 3),\n",
       " (8, 'Patricia', 'Taylor', 'HR', 52000, '2024-05-01', 5),\n",
       " (9, 'Christopher', 'Thomas', 'Marketing', 59000, '2024-05-02', 2),\n",
       " (10, 'Jennifer', 'Lee', 'Sales', 63000, '2024-05-03', 3),\n",
       " (11, 'James', 'White', 'Operations', 56000, '2024-05-04', 4),\n",
       " (13, 'Daniel', 'Clark', 'Finance', 64000, '2024-05-06', 5),\n",
       " (14, 'Nancy', 'Lewis', 'HR', 53000, '2024-05-07', 2),\n",
       " (15, 'Paul', 'Walker', 'Sales', 61000, '2024-05-08', 3),\n",
       " (16, 'Karen', 'Hall', 'Marketing', 60000, '2024-05-09', 4),\n",
       " (18, 'Elizabeth', 'Young', 'Finance', 62000, '2024-05-11', 2),\n",
       " (19, 'George', 'King', 'Operations', 57000, '2024-05-12', 3),\n",
       " (20, 'Mary', 'Wright', 'HR', 54000, '2024-05-13', 4),\n",
       " (21, 'Brian', 'Lopez', 'Sales', 62000, '2024-05-14', 5),\n",
       " (23, 'Anthony', 'Scott', 'Finance', 66000, '2024-05-16', 3),\n",
       " (24, 'Deborah', 'Green', 'Marketing', 63000, '2024-05-17', 4),\n",
       " (25, 'Larry', 'Adams', 'Operations', 58000, '2024-05-18', 5),\n",
       " (26, 'Sarah', 'Nelson', 'HR', 55000, '2024-05-19', 2),\n",
       " (27, 'Kenneth', 'Carter', 'Sales', 64000, '2024-05-20', 3),\n",
       " (29, 'Ronald', 'Perez', 'Finance', 67000, '2024-05-22', 5),\n",
       " (30, 'Laura', 'Roberts', 'Marketing', 65000, '2024-05-23', 2)]"
      ]
     },
     "execution_count": 16,
     "metadata": {},
     "output_type": "execute_result"
    }
   ],
   "source": [
    "# Get the employees that are NOT in department of IT\n",
    "cursor.execute(\"SELECT * FROM employees WHERE NOT department = 'IT'\")\n",
    "cursor.fetchall()"
   ]
  },
  {
   "cell_type": "markdown",
   "metadata": {},
   "source": [
    "### **Special Operators:**\n",
    "#### `BETWEEN`: Checks if a value falls within a specified range."
   ]
  },
  {
   "cell_type": "code",
   "execution_count": null,
   "metadata": {},
   "outputs": [
    {
     "data": {
      "text/plain": [
       "[(1, 'John', 'Doe', 'Sales', 65000, '1997-01-07', 2),\n",
       " (3, 'Michael', 'Johnson', 'Sales', 60000, '2024-04-27', 5),\n",
       " (4, 'Emily', 'Davis', 'Operations', 62000, '2024-04-20', 2),\n",
       " (7, 'Robert', 'Anderson', 'Finance', 65000, '2024-04-30', 3),\n",
       " (10, 'Jennifer', 'Lee', 'Sales', 63000, '2024-05-03', 3),\n",
       " (13, 'Daniel', 'Clark', 'Finance', 64000, '2024-05-06', 5),\n",
       " (15, 'Paul', 'Walker', 'Sales', 61000, '2024-05-08', 3),\n",
       " (16, 'Karen', 'Hall', 'Marketing', 60000, '2024-05-09', 4),\n",
       " (18, 'Elizabeth', 'Young', 'Finance', 62000, '2024-05-11', 2),\n",
       " (21, 'Brian', 'Lopez', 'Sales', 62000, '2024-05-14', 5),\n",
       " (24, 'Deborah', 'Green', 'Marketing', 63000, '2024-05-17', 4),\n",
       " (27, 'Kenneth', 'Carter', 'Sales', 64000, '2024-05-20', 3),\n",
       " (30, 'Laura', 'Roberts', 'Marketing', 65000, '2024-05-23', 2)]"
      ]
     },
     "execution_count": 17,
     "metadata": {},
     "output_type": "execute_result"
    }
   ],
   "source": [
    "cursor.execute(\"\"\"\n",
    "SELECT * FROM employees\n",
    "WHERE salary BETWEEN 60000 and 65000\n",
    "\"\"\")\n",
    "cursor.fetchall()"
   ]
  },
  {
   "cell_type": "markdown",
   "metadata": {},
   "source": [
    "#### `IN`: Checks if a value belongs to a set of values."
   ]
  },
  {
   "cell_type": "code",
   "execution_count": null,
   "metadata": {},
   "outputs": [
    {
     "data": {
      "text/plain": [
       "[(2, 'Jane', 'Smith', 'Marketing', 55000, '2024-04-26', 3),\n",
       " (4, 'Emily', 'Davis', 'Operations', 62000, '2024-04-20', 2),\n",
       " (5, 'David', 'Wilson', 'Operations', 58000, '2024-04-28', 1),\n",
       " (9, 'Christopher', 'Thomas', 'Marketing', 59000, '2024-05-02', 2),\n",
       " (11, 'James', 'White', 'Operations', 56000, '2024-05-04', 4),\n",
       " (16, 'Karen', 'Hall', 'Marketing', 60000, '2024-05-09', 4),\n",
       " (19, 'George', 'King', 'Operations', 57000, '2024-05-12', 3),\n",
       " (24, 'Deborah', 'Green', 'Marketing', 63000, '2024-05-17', 4),\n",
       " (25, 'Larry', 'Adams', 'Operations', 58000, '2024-05-18', 5),\n",
       " (30, 'Laura', 'Roberts', 'Marketing', 65000, '2024-05-23', 2)]"
      ]
     },
     "execution_count": 18,
     "metadata": {},
     "output_type": "execute_result"
    }
   ],
   "source": [
    "cursor.execute(\"\"\"\n",
    "SELECT * FROM employees\n",
    "WHERE department IN ('Operations', 'Marketing')\n",
    "\"\"\")\n",
    "cursor.fetchall()"
   ]
  },
  {
   "cell_type": "markdown",
   "metadata": {},
   "source": [
    "#### `LIKE`: Used for pattern matching with wildcards."
   ]
  },
  {
   "cell_type": "code",
   "execution_count": null,
   "metadata": {},
   "outputs": [
    {
     "data": {
      "text/plain": [
       "[(3, 'Michael', 'Johnson', 'Sales', 60000, '2024-04-27', 5),\n",
       " (5, 'David', 'Wilson', 'Operations', 58000, '2024-04-28', 1),\n",
       " (7, 'Robert', 'Anderson', 'Finance', 65000, '2024-04-30', 3),\n",
       " (26, 'Sarah', 'Nelson', 'HR', 55000, '2024-05-19', 2)]"
      ]
     },
     "execution_count": 19,
     "metadata": {},
     "output_type": "execute_result"
    }
   ],
   "source": [
    "# % - wildcard\n",
    "# string - pattern\n",
    "# %string - ending substring/pattern\n",
    "cursor.execute(\"\"\"\n",
    "SELECT * FROM employees\n",
    "WHERE last_name LIKE '%son'\n",
    "\"\"\")\n",
    "cursor.fetchall()"
   ]
  },
  {
   "cell_type": "code",
   "execution_count": null,
   "metadata": {},
   "outputs": [
    {
     "data": {
      "text/plain": [
       "[(2, 'Jane', 'Smith', 'Marketing', 55000, '2024-04-26', 3),\n",
       " (11, 'James', 'White', 'Operations', 56000, '2024-05-04', 4)]"
      ]
     },
     "execution_count": 20,
     "metadata": {},
     "output_type": "execute_result"
    }
   ],
   "source": [
    "# string% - starting substring/pattern\n",
    "cursor.execute(\"\"\"\n",
    "SELECT * FROM employees\n",
    "WHERE first_name LIKE 'ja%'\n",
    "\"\"\")\n",
    "cursor.fetchall()"
   ]
  },
  {
   "cell_type": "code",
   "execution_count": null,
   "metadata": {},
   "outputs": [
    {
     "data": {
      "text/plain": [
       "[(2, 'Jane', 'Smith', 'Marketing', 55000, '2024-04-26', 3),\n",
       " (3, 'Michael', 'Johnson', 'Sales', 60000, '2024-04-27', 5),\n",
       " (4, 'Emily', 'Davis', 'Operations', 62000, '2024-04-20', 2),\n",
       " (5, 'David', 'Wilson', 'Operations', 58000, '2024-04-28', 1),\n",
       " (6, 'Linda', 'Martinez', 'IT', 70000, '2024-04-29', 4),\n",
       " (7, 'Robert', 'Anderson', 'Finance', 65000, '2024-04-30', 3)]"
      ]
     },
     "execution_count": 21,
     "metadata": {},
     "output_type": "execute_result"
    }
   ],
   "source": [
    "# %string% - contains the substring\n",
    "cursor.execute(\"\"\"\n",
    "SELECT * FROM employees\n",
    "WHERE hire_date LIKE '%-04-%'\n",
    "\"\"\")\n",
    "cursor.fetchall()"
   ]
  },
  {
   "cell_type": "markdown",
   "metadata": {},
   "source": [
    "### **ORDER BY**\n",
    "\n",
    "The **ORDER BY** clause allows you to sort the results of your SELECT queries in either ascending or descending order. It lets you sort the retrieved data based on one or more columns, making it easier to analyze and interpret."
   ]
  },
  {
   "cell_type": "markdown",
   "metadata": {},
   "source": [
    "#### `ASC:` Ascending order (lowest to highest). (Default)"
   ]
  },
  {
   "cell_type": "code",
   "execution_count": null,
   "metadata": {},
   "outputs": [
    {
     "data": {
      "text/plain": [
       "[(25, 'Larry', 'Adams', 'Operations', 58000, '2024-05-18', 5),\n",
       " (17, 'Steven', 'Allen', 'IT', 69000, '2024-05-10', 5),\n",
       " (7, 'Robert', 'Anderson', 'Finance', 65000, '2024-04-30', 3),\n",
       " (27, 'Kenneth', 'Carter', 'Sales', 64000, '2024-05-20', 3),\n",
       " (13, 'Daniel', 'Clark', 'Finance', 64000, '2024-05-06', 5),\n",
       " (4, 'Emily', 'Davis', 'Operations', 62000, '2024-04-20', 2),\n",
       " (1, 'John', 'Doe', 'Sales', 65000, '1997-01-07', 2),\n",
       " (24, 'Deborah', 'Green', 'Marketing', 63000, '2024-05-17', 4),\n",
       " (16, 'Karen', 'Hall', 'Marketing', 60000, '2024-05-09', 4),\n",
       " (12, 'Barbara', 'Harris', 'IT', 68000, '2024-05-05', 1),\n",
       " (22, 'Megan', 'Hill', 'IT', 71000, '2024-05-15', 2),\n",
       " (3, 'Michael', 'Johnson', 'Sales', 60000, '2024-04-27', 5),\n",
       " (19, 'George', 'King', 'Operations', 57000, '2024-05-12', 3),\n",
       " (10, 'Jennifer', 'Lee', 'Sales', 63000, '2024-05-03', 3),\n",
       " (14, 'Nancy', 'Lewis', 'HR', 53000, '2024-05-07', 2),\n",
       " (21, 'Brian', 'Lopez', 'Sales', 62000, '2024-05-14', 5),\n",
       " (6, 'Linda', 'Martinez', 'IT', 70000, '2024-04-29', 4),\n",
       " (28, 'Betty', 'Mitchell', 'IT', 72000, '2024-05-21', 4),\n",
       " (26, 'Sarah', 'Nelson', 'HR', 55000, '2024-05-19', 2),\n",
       " (29, 'Ronald', 'Perez', 'Finance', 67000, '2024-05-22', 5),\n",
       " (30, 'Laura', 'Roberts', 'Marketing', 65000, '2024-05-23', 2),\n",
       " (23, 'Anthony', 'Scott', 'Finance', 66000, '2024-05-16', 3),\n",
       " (2, 'Jane', 'Smith', 'Marketing', 55000, '2024-04-26', 3),\n",
       " (8, 'Patricia', 'Taylor', 'HR', 52000, '2024-05-01', 5),\n",
       " (9, 'Christopher', 'Thomas', 'Marketing', 59000, '2024-05-02', 2),\n",
       " (15, 'Paul', 'Walker', 'Sales', 61000, '2024-05-08', 3),\n",
       " (11, 'James', 'White', 'Operations', 56000, '2024-05-04', 4),\n",
       " (5, 'David', 'Wilson', 'Operations', 58000, '2024-04-28', 1),\n",
       " (20, 'Mary', 'Wright', 'HR', 54000, '2024-05-13', 4),\n",
       " (18, 'Elizabeth', 'Young', 'Finance', 62000, '2024-05-11', 2)]"
      ]
     },
     "execution_count": 22,
     "metadata": {},
     "output_type": "execute_result"
    }
   ],
   "source": [
    "cursor.execute(\"\"\"\n",
    "SELECT * FROM employees\n",
    "ORDER BY last_name ASC\n",
    "\"\"\")\n",
    "cursor.fetchall()"
   ]
  },
  {
   "cell_type": "markdown",
   "metadata": {},
   "source": [
    "#### `DESC:` Descending order (highest to lowest)."
   ]
  },
  {
   "cell_type": "code",
   "execution_count": null,
   "metadata": {},
   "outputs": [
    {
     "data": {
      "text/plain": [
       "[(28, 'Betty', 'Mitchell', 'IT', 72000, '2024-05-21', 4),\n",
       " (22, 'Megan', 'Hill', 'IT', 71000, '2024-05-15', 2),\n",
       " (6, 'Linda', 'Martinez', 'IT', 70000, '2024-04-29', 4),\n",
       " (17, 'Steven', 'Allen', 'IT', 69000, '2024-05-10', 5),\n",
       " (12, 'Barbara', 'Harris', 'IT', 68000, '2024-05-05', 1),\n",
       " (29, 'Ronald', 'Perez', 'Finance', 67000, '2024-05-22', 5),\n",
       " (23, 'Anthony', 'Scott', 'Finance', 66000, '2024-05-16', 3),\n",
       " (1, 'John', 'Doe', 'Sales', 65000, '1997-01-07', 2),\n",
       " (7, 'Robert', 'Anderson', 'Finance', 65000, '2024-04-30', 3),\n",
       " (30, 'Laura', 'Roberts', 'Marketing', 65000, '2024-05-23', 2),\n",
       " (13, 'Daniel', 'Clark', 'Finance', 64000, '2024-05-06', 5),\n",
       " (27, 'Kenneth', 'Carter', 'Sales', 64000, '2024-05-20', 3),\n",
       " (10, 'Jennifer', 'Lee', 'Sales', 63000, '2024-05-03', 3),\n",
       " (24, 'Deborah', 'Green', 'Marketing', 63000, '2024-05-17', 4),\n",
       " (4, 'Emily', 'Davis', 'Operations', 62000, '2024-04-20', 2),\n",
       " (18, 'Elizabeth', 'Young', 'Finance', 62000, '2024-05-11', 2),\n",
       " (21, 'Brian', 'Lopez', 'Sales', 62000, '2024-05-14', 5),\n",
       " (15, 'Paul', 'Walker', 'Sales', 61000, '2024-05-08', 3),\n",
       " (3, 'Michael', 'Johnson', 'Sales', 60000, '2024-04-27', 5),\n",
       " (16, 'Karen', 'Hall', 'Marketing', 60000, '2024-05-09', 4),\n",
       " (9, 'Christopher', 'Thomas', 'Marketing', 59000, '2024-05-02', 2),\n",
       " (5, 'David', 'Wilson', 'Operations', 58000, '2024-04-28', 1),\n",
       " (25, 'Larry', 'Adams', 'Operations', 58000, '2024-05-18', 5),\n",
       " (19, 'George', 'King', 'Operations', 57000, '2024-05-12', 3),\n",
       " (11, 'James', 'White', 'Operations', 56000, '2024-05-04', 4),\n",
       " (2, 'Jane', 'Smith', 'Marketing', 55000, '2024-04-26', 3),\n",
       " (26, 'Sarah', 'Nelson', 'HR', 55000, '2024-05-19', 2),\n",
       " (20, 'Mary', 'Wright', 'HR', 54000, '2024-05-13', 4),\n",
       " (14, 'Nancy', 'Lewis', 'HR', 53000, '2024-05-07', 2),\n",
       " (8, 'Patricia', 'Taylor', 'HR', 52000, '2024-05-01', 5)]"
      ]
     },
     "execution_count": 23,
     "metadata": {},
     "output_type": "execute_result"
    }
   ],
   "source": [
    "# sort the data based on the highest to lowest salary\n",
    "cursor.execute(\"SELECT * FROM employees order by salary DESC\")\n",
    "cursor.fetchall()"
   ]
  },
  {
   "cell_type": "code",
   "execution_count": null,
   "metadata": {},
   "outputs": [
    {
     "data": {
      "text/plain": [
       "[(29, 'Ronald', 'Perez', 'Finance', 67000, '2024-05-22', 5),\n",
       " (23, 'Anthony', 'Scott', 'Finance', 66000, '2024-05-16', 3),\n",
       " (7, 'Robert', 'Anderson', 'Finance', 65000, '2024-04-30', 3),\n",
       " (13, 'Daniel', 'Clark', 'Finance', 64000, '2024-05-06', 5),\n",
       " (18, 'Elizabeth', 'Young', 'Finance', 62000, '2024-05-11', 2),\n",
       " (26, 'Sarah', 'Nelson', 'HR', 55000, '2024-05-19', 2),\n",
       " (20, 'Mary', 'Wright', 'HR', 54000, '2024-05-13', 4),\n",
       " (14, 'Nancy', 'Lewis', 'HR', 53000, '2024-05-07', 2),\n",
       " (8, 'Patricia', 'Taylor', 'HR', 52000, '2024-05-01', 5),\n",
       " (28, 'Betty', 'Mitchell', 'IT', 72000, '2024-05-21', 4),\n",
       " (22, 'Megan', 'Hill', 'IT', 71000, '2024-05-15', 2),\n",
       " (6, 'Linda', 'Martinez', 'IT', 70000, '2024-04-29', 4),\n",
       " (17, 'Steven', 'Allen', 'IT', 69000, '2024-05-10', 5),\n",
       " (12, 'Barbara', 'Harris', 'IT', 68000, '2024-05-05', 1),\n",
       " (30, 'Laura', 'Roberts', 'Marketing', 65000, '2024-05-23', 2),\n",
       " (24, 'Deborah', 'Green', 'Marketing', 63000, '2024-05-17', 4),\n",
       " (16, 'Karen', 'Hall', 'Marketing', 60000, '2024-05-09', 4),\n",
       " (9, 'Christopher', 'Thomas', 'Marketing', 59000, '2024-05-02', 2),\n",
       " (2, 'Jane', 'Smith', 'Marketing', 55000, '2024-04-26', 3),\n",
       " (4, 'Emily', 'Davis', 'Operations', 62000, '2024-04-20', 2),\n",
       " (5, 'David', 'Wilson', 'Operations', 58000, '2024-04-28', 1),\n",
       " (25, 'Larry', 'Adams', 'Operations', 58000, '2024-05-18', 5),\n",
       " (19, 'George', 'King', 'Operations', 57000, '2024-05-12', 3),\n",
       " (11, 'James', 'White', 'Operations', 56000, '2024-05-04', 4),\n",
       " (1, 'John', 'Doe', 'Sales', 65000, '1997-01-07', 2),\n",
       " (27, 'Kenneth', 'Carter', 'Sales', 64000, '2024-05-20', 3),\n",
       " (10, 'Jennifer', 'Lee', 'Sales', 63000, '2024-05-03', 3),\n",
       " (21, 'Brian', 'Lopez', 'Sales', 62000, '2024-05-14', 5),\n",
       " (15, 'Paul', 'Walker', 'Sales', 61000, '2024-05-08', 3),\n",
       " (3, 'Michael', 'Johnson', 'Sales', 60000, '2024-04-27', 5)]"
      ]
     },
     "execution_count": 24,
     "metadata": {},
     "output_type": "execute_result"
    }
   ],
   "source": [
    "# sort the data based on department ascending and salary descending\n",
    "cursor.execute(\"SELECT * FROM employees order by department ASC, salary DESC\")\n",
    "cursor.fetchall()"
   ]
  },
  {
   "cell_type": "markdown",
   "metadata": {},
   "source": [
    "### **GROUP BY**\n",
    "\n",
    "The **GROUP BY** clause is used to organize and summarize data by grouping rows with the same values in one or more columns. This helps you analyze trends, patterns, and aggregate statistics within your data."
   ]
  },
  {
   "cell_type": "markdown",
   "metadata": {},
   "source": [
    "#### Grouping with `COUNT()`"
   ]
  },
  {
   "cell_type": "code",
   "execution_count": null,
   "metadata": {},
   "outputs": [
    {
     "data": {
      "text/plain": [
       "[('Finance', 5),\n",
       " ('HR', 4),\n",
       " ('IT', 5),\n",
       " ('Marketing', 5),\n",
       " ('Operations', 5),\n",
       " ('Sales', 6)]"
      ]
     },
     "execution_count": 25,
     "metadata": {},
     "output_type": "execute_result"
    }
   ],
   "source": [
    "# Get the number of employees under each department\n",
    "cursor.execute(\"\"\"\n",
    "SELECT department, COUNT()\n",
    "FROM employees\n",
    "GROUP BY department\n",
    "\"\"\")\n",
    "cursor.fetchall()"
   ]
  },
  {
   "cell_type": "markdown",
   "metadata": {},
   "source": [
    "#### Grouping with `SUM()`"
   ]
  },
  {
   "cell_type": "code",
   "execution_count": null,
   "metadata": {},
   "outputs": [
    {
     "data": {
      "text/plain": [
       "[('Finance', 324000),\n",
       " ('HR', 214000),\n",
       " ('IT', 350000),\n",
       " ('Marketing', 302000),\n",
       " ('Operations', 291000),\n",
       " ('Sales', 375000)]"
      ]
     },
     "execution_count": 26,
     "metadata": {},
     "output_type": "execute_result"
    }
   ],
   "source": [
    "# Total budget for salary in each department\n",
    "cursor.execute(\"\"\"\n",
    "SELECT department, SUM(salary)\n",
    "FROM employees\n",
    "GROUP BY department\n",
    "\"\"\")\n",
    "cursor.fetchall()"
   ]
  },
  {
   "cell_type": "markdown",
   "metadata": {},
   "source": [
    "#### Grouping with `AVG()`"
   ]
  },
  {
   "cell_type": "code",
   "execution_count": null,
   "metadata": {},
   "outputs": [
    {
     "data": {
      "text/plain": [
       "[('IT', 70000.0),\n",
       " ('Sales', 62500.0),\n",
       " ('Finance', 64800.0),\n",
       " ('Operations', 58200.0),\n",
       " ('Marketing', 60400.0),\n",
       " ('HR', 53500.0)]"
      ]
     },
     "execution_count": 27,
     "metadata": {},
     "output_type": "execute_result"
    }
   ],
   "source": [
    "# Average salary of an employee for each department\n",
    "cursor.execute(\"\"\"\n",
    "SELECT department, AVG(salary)\n",
    "FROM employees\n",
    "GROUP BY department\n",
    "ORDER BY salary DESC\n",
    "\"\"\")\n",
    "cursor.fetchall()"
   ]
  },
  {
   "cell_type": "markdown",
   "metadata": {},
   "source": [
    "#### Grouping with `MAX()` and `MIN()`"
   ]
  },
  {
   "cell_type": "code",
   "execution_count": null,
   "metadata": {},
   "outputs": [],
   "source": []
  }
 ],
 "metadata": {
  "kernelspec": {
   "display_name": "Python 3",
   "language": "python",
   "name": "python3"
  },
  "language_info": {
   "codemirror_mode": {
    "name": "ipython",
    "version": 3
   },
   "file_extension": ".py",
   "mimetype": "text/x-python",
   "name": "python",
   "nbconvert_exporter": "python",
   "pygments_lexer": "ipython3",
   "version": "3.13.2"
  }
 },
 "nbformat": 4,
 "nbformat_minor": 2
}
